{
 "cells": [
  {
   "cell_type": "markdown",
   "id": "b8dcf701",
   "metadata": {},
   "source": [
    "# PROJECT ZEO"
   ]
  },
  {
   "cell_type": "code",
   "execution_count": 2,
   "id": "5894bbbd",
   "metadata": {
    "scrolled": true
   },
   "outputs": [
    {
     "ename": "ModuleNotFoundError",
     "evalue": "No module named 'speech_recognition'",
     "output_type": "error",
     "traceback": [
      "\u001b[1;31m---------------------------------------------------------------------------\u001b[0m",
      "\u001b[1;31mModuleNotFoundError\u001b[0m                       Traceback (most recent call last)",
      "\u001b[1;32m<ipython-input-2-2c97a09fc5a6>\u001b[0m in \u001b[0;36m<module>\u001b[1;34m\u001b[0m\n\u001b[0;32m      1\u001b[0m \u001b[1;31m#IMPORTING THE LIBRARIES\u001b[0m\u001b[1;33m\u001b[0m\u001b[1;33m\u001b[0m\u001b[1;33m\u001b[0m\u001b[0m\n\u001b[1;32m----> 2\u001b[1;33m \u001b[1;32mimport\u001b[0m \u001b[0mspeech_recognition\u001b[0m \u001b[1;32mas\u001b[0m \u001b[0msr\u001b[0m\u001b[1;33m\u001b[0m\u001b[1;33m\u001b[0m\u001b[0m\n\u001b[0m\u001b[0;32m      3\u001b[0m \u001b[1;32mimport\u001b[0m \u001b[0mpyttsx3\u001b[0m\u001b[1;33m\u001b[0m\u001b[1;33m\u001b[0m\u001b[0m\n\u001b[0;32m      4\u001b[0m \u001b[1;32mimport\u001b[0m \u001b[0mdatetime\u001b[0m\u001b[1;33m\u001b[0m\u001b[1;33m\u001b[0m\u001b[0m\n\u001b[0;32m      5\u001b[0m \u001b[1;32mimport\u001b[0m \u001b[0mwikipedia\u001b[0m\u001b[1;33m\u001b[0m\u001b[1;33m\u001b[0m\u001b[0m\n",
      "\u001b[1;31mModuleNotFoundError\u001b[0m: No module named 'speech_recognition'"
     ]
    }
   ],
   "source": [
    "#IMPORTING THE LIBRARIES\n",
    "import speech_recognition as sr\n",
    "import pyttsx3\n",
    "import datetime\n",
    "import wikipedia\n",
    "import webbrowser\n",
    "import os\n",
    "import time\n",
    "import subprocess\n",
    "from ecapture import ecapture as ec\n",
    "import wolframalpha\n",
    "import json\n",
    "import requests"
   ]
  },
  {
   "cell_type": "code",
   "execution_count": null,
   "id": "7352f4b9",
   "metadata": {},
   "outputs": [],
   "source": [
    "# SETTING UP SPEECH ENGINE\n",
    "engine=pyttsx3.init('sapi5')\n",
    "voices=engine.getProperty('voices')\n",
    "engine.setProperty('voice','voices[0].id')"
   ]
  },
  {
   "cell_type": "code",
   "execution_count": null,
   "id": "c8a38ae6",
   "metadata": {},
   "outputs": [],
   "source": [
    "# INITIATE THE GREET USER \n",
    "def wishMe():\n",
    "    hour=datetime.datetime.now().hour\n",
    "    if hour>=0 and hour<12:\n",
    "        speak(\"ZEO,Good Morning\")\n",
    "        print(\"Hello,Good Morning\")\n",
    "    elif hour>=12 and hour<18:\n",
    "        speak(\"ZEO,Good Afternoon\")\n",
    "        print(\"Hello,Good Afternoon\")\n",
    "    else:\n",
    "        speak(\"ZEO,Good Evening\")\n",
    "        print(\"Hello,Good Evening\")"
   ]
  },
  {
   "cell_type": "code",
   "execution_count": null,
   "id": "85dd948a",
   "metadata": {},
   "outputs": [],
   "source": [
    "# COMMAND TO ZEO \n",
    "def takeCommand():\n",
    "    r=sr.Recognizer()\n",
    "    with sr.Microphone() as source:\n",
    "        print(\"Listening...\")\n",
    "        audio=r.listen(source)\n",
    "\n",
    "        try:\n",
    "            statement=r.recognize_google(audio,language='en-in')\n",
    "            print(f\"user said:{statement}\\n\")\n",
    "\n",
    "        except Exception as e:\n",
    "            speak(\"Pardon me, please say that again\")\n",
    "            return \"None\"\n",
    "        return statement\n",
    "\n",
    "print(\"Loading your AI personal assistant ZEO\")\n",
    "speak(\"Loading your AI personal assistant ZEO\")\n",
    "wishMe()"
   ]
  },
  {
   "cell_type": "code",
   "execution_count": null,
   "id": "0a5e9007",
   "metadata": {},
   "outputs": [],
   "source": [
    "# MAIN FUNCTION\n",
    "if __name__=='__main__':\n",
    "\n",
    "\n",
    "    while True:\n",
    "        speak(\"Tell me how can I help you now?\")\n",
    "        statement = takeCommand().lower()\n",
    "        if statement==0:\n",
    "            continue"
   ]
  },
  {
   "cell_type": "code",
   "execution_count": null,
   "id": "6229de77",
   "metadata": {},
   "outputs": [],
   "source": [
    "if \"good bye\" in statement or \"ok bye\" in statement or \"stop\" in statement:\n",
    "            speak('your personal assistant ZEO is shutting down,Good bye')\n",
    "            print('your personal assistant ZEO is shutting down,Good bye')\n",
    "            break"
   ]
  },
  {
   "cell_type": "code",
   "execution_count": null,
   "id": "fbefb0b6",
   "metadata": {},
   "outputs": [],
   "source": [
    "# USING WIKIPEDIA\n",
    "if 'wikipedia' in statement:\n",
    "            speak('Searching Wikipedia...')\n",
    "            statement =statement.replace(\"wikipedia\", \"\")\n",
    "            results = wikipedia.summary(statement, sentences=3)\n",
    "            speak(\"According to Wikipedia\")\n",
    "            print(results)\n",
    "            speak(results)"
   ]
  },
  {
   "cell_type": "code",
   "execution_count": null,
   "id": "6a116a4f",
   "metadata": {},
   "outputs": [],
   "source": [
    "# USING WEB BROWSWER \n",
    "        elif 'open youtube' in statement:\n",
    "            webbrowser.open_new_tab(\"https://www.youtube.com\")\n",
    "            speak(\"youtube is open now\")\n",
    "            time.sleep(5)\n",
    "\n",
    "        elif 'open google' in statement:\n",
    "            webbrowser.open_new_tab(\"https://www.google.com\")\n",
    "            speak(\"Google chrome is open now\")\n",
    "            time.sleep(5)\n",
    "\n",
    "        elif 'open gmail' in statement:\n",
    "            webbrowser.open_new_tab(\"gmail.com\")\n",
    "            speak(\"Google Mail open now\")\n",
    "            time.sleep(5)"
   ]
  },
  {
   "cell_type": "code",
   "execution_count": null,
   "id": "a86b474b",
   "metadata": {},
   "outputs": [],
   "source": [
    "# PREDICTING TIME \n",
    " elif 'time' in statement:\n",
    "            strTime=datetime.datetime.now().strftime(\"%H:%M:%S\")\n",
    "            speak(f\"the time is {strTime}\")"
   ]
  },
  {
   "cell_type": "code",
   "execution_count": null,
   "id": "38a12c7b",
   "metadata": {},
   "outputs": [],
   "source": [
    "# LATEST NEWS AND CAPTURE PHOTO \n",
    "elif 'news' in statement:\n",
    "            news = webbrowser.open_new_tab(\"https://timesofindia.indiatimes.com/home/headlines”)\n",
    "            speak('Here are some headlines from the Times of India,Happy reading')\n",
    "            time.sleep(6)\n",
    "\n",
    "        elif \"camera\" in statement or \"take a photo\" in statement:\n",
    "            ec.capture(0,\"robo camera\",\"img.jpg\")"
   ]
  },
  {
   "cell_type": "code",
   "execution_count": null,
   "id": "6b7132b2",
   "metadata": {},
   "outputs": [],
   "source": [
    "# SEARCH DATA FROM WEB \n",
    "elif 'search'  in statement:\n",
    "            statement = statement.replace(\"search\", \"\")\n",
    "            webbrowser.open_new_tab(statement)\n",
    "            time.sleep(5)"
   ]
  },
  {
   "cell_type": "code",
   "execution_count": null,
   "id": "8b18ac17",
   "metadata": {},
   "outputs": [],
   "source": [
    "# ANSWER GEOGRAPHICAL QUESTIONS \n",
    " elif 'ask' in statement:\n",
    "            speak('I can answer to computational and geographical questions  and what question do you want to ask now')\n",
    "            question=takeCommand()\n",
    "            app_id=\"Paste your unique ID here \"\n",
    "            client = wolframalpha.Client('R2K75H-7ELALHR35X')\n",
    "            res = client.query(question)\n",
    "            answer = next(res.results).text\n",
    "            speak(answer)\n",
    "            print(answer)"
   ]
  },
  {
   "cell_type": "code",
   "execution_count": null,
   "id": "31848023",
   "metadata": {},
   "outputs": [],
   "source": [
    "# CREATED CREDITS\n",
    "elif 'who are you' in statement or 'what can you do' in statement:\n",
    "            speak('I am zeo version 1 point O your personal assistant. I am programmed to minor tasks like'\n",
    "                  'opening youtube,google chrome, gmail and stackoverflow ,predict time,take a photo,search wikipedia,predict weather' \n",
    "                  'In different cities, get top headline news from times of india and you can ask me computational or geographical questions too!')\n",
    "\n",
    "\n",
    "        elif \"who made you\" in statement or \"who created you\" in statement or \"who discovered you\" in statement:\n",
    "            speak(\"I was built by team feonix\")\n",
    "            print(\"I was built by team feonix\")"
   ]
  },
  {
   "cell_type": "code",
   "execution_count": null,
   "id": "835bb435",
   "metadata": {},
   "outputs": [],
   "source": [
    "# forecast weather \n",
    "elif \"weather\" in statement:\n",
    "            api_key=\"Apply your unique ID\"\n",
    "            base_url=\"https://api.openweathermap.org/data/2.5/weather?\"\n",
    "            speak(\"what is the city name\")\n",
    "            city_name=takeCommand()\n",
    "            complete_url=base_url+\"appid=\"+api_key+\"&q=\"+city_name\n",
    "            response = requests.get(complete_url)\n",
    "            x=response.json()\n",
    "            if x[\"cod\"]!=\"404\":\n",
    "                y=x[\"main\"]\n",
    "                current_temperature = y[\"temp\"]\n",
    "                current_humidiy = y[\"humidity\"]\n",
    "                z = x[\"weather\"]\n",
    "                weather_description = z[0][\"description\"]\n",
    "                speak(\" Temperature in kelvin unit is \" +\n",
    "                      str(current_temperature) +\n",
    "                      \"\\n humidity in percentage is \" +\n",
    "                      str(current_humidiy) +\n",
    "                      \"\\n description  \" +\n",
    "                      str(weather_description))\n",
    "                print(\" Temperature in kelvin unit = \" +\n",
    "                      str(current_temperature) +\n",
    "                      \"\\n humidity (in percentage) = \" +\n",
    "                      str(current_humidiy) +\n",
    "                      \"\\n description = \" +\n",
    "                      str(weather_description))"
   ]
  },
  {
   "cell_type": "code",
   "execution_count": null,
   "id": "417a892d",
   "metadata": {},
   "outputs": [],
   "source": [
    "# switch off \n",
    " elif \"log off\" in statement or \"sign out\" in statement:\n",
    "            speak(\"Ok , your pc will log off in 10 sec make sure you exit from all applications\")\n",
    "            subprocess.call([\"shutdown\", \"/l\"])\n",
    "\t\t\t\n",
    "time.sleep(3)"
   ]
  },
  {
   "cell_type": "code",
   "execution_count": null,
   "id": "93f3b118",
   "metadata": {},
   "outputs": [],
   "source": [
    "# HOW TO OPEN WHATSAPP \n",
    "elif 'whatsapp procedure' in statement or 'how use whatsapp' in statement:\n",
    "            speak('I am zeo your personal assistant. I am programmed to minor tasks like'\n",
    "                  'opening youtube,google chrome, gmail and stackoverflow ,predict time,take a photo,search wikipedia,predict weather' \n",
    "                  'In different cities, get top headline news from times of india and you can ask me computational or geographical questions too!')\n",
    "\n",
    "\n",
    "        elif \"who made you\" in statement or \"who created you\" in statement or \"who discovered you\" in statement:\n",
    "            speak(\"I was built by team feonix\")\n",
    "            print(\"I was built by team feonix\")"
   ]
  }
 ],
 "metadata": {
  "kernelspec": {
   "display_name": "Python 3",
   "language": "python",
   "name": "python3"
  },
  "language_info": {
   "codemirror_mode": {
    "name": "ipython",
    "version": 3
   },
   "file_extension": ".py",
   "mimetype": "text/x-python",
   "name": "python",
   "nbconvert_exporter": "python",
   "pygments_lexer": "ipython3",
   "version": "3.8.8"
  }
 },
 "nbformat": 4,
 "nbformat_minor": 5
}
